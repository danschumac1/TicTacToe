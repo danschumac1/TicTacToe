{
 "cells": [
  {
   "cell_type": "markdown",
   "metadata": {},
   "source": [
    "___\n",
    "\n",
    "<a href='https://www.udemy.com/user/joseportilla/'><img src='../Pierian_Data_Logo.png'/></a>\n",
    "___\n",
    "<center><em>Content Copyright by Pierian Data</em></center>"
   ]
  },
  {
   "cell_type": "markdown",
   "metadata": {},
   "source": [
    "# Milestone Project 1: Walkthrough Steps Workbook\n",
    "\n",
    "Below is a set of steps for you to follow to try to create the Tic Tac Toe Milestone Project game!"
   ]
  },
  {
   "cell_type": "markdown",
   "metadata": {},
   "source": [
    "#### Some suggested tools before you get started:\n",
    "To take input from a user:\n",
    "\n",
    "    player1 = input(\"Please pick a marker 'X' or 'O'\")\n",
    "    \n",
    "Note that input() takes in a string. If you need an integer value, use\n",
    "\n",
    "    position = int(input('Please enter a number'))\n",
    "    \n",
    "<br>To clear the screen between moves:\n",
    "\n",
    "    from IPython.display import clear_output\n",
    "    clear_output()\n",
    "    \n",
    "Note that clear_output() will only work in jupyter. To clear the screen in other IDEs, consider:\n",
    "\n",
    "    print('\\n'*100)\n",
    "    \n",
    "This scrolls the previous board up out of view. Now on to the program!"
   ]
  },
  {
   "cell_type": "markdown",
   "metadata": {},
   "source": [
    "**Step 1: Write a function that can print out a board. Set up your board as a list, where each index 1-9 corresponds with a number on a number pad, so you get a 3 by 3 board representation.**"
   ]
  },
  {
   "cell_type": "code",
   "execution_count": 1,
   "metadata": {},
   "outputs": [],
   "source": [
    "from IPython.display import clear_output\n",
    "blank_board = ('ind0','  ', '  ', '  ', '  ', '  ', '  ', '  ', '  ', '  ')\n",
    "test_board = ('ind0',' ', 'o', 'x', ' ', 'x', ' ', 'o', ' ', ' ')\n",
    "\n",
    "def display_board(board):\n",
    "    clear_output()\n",
    "    print (board[7], '|', board[8], '|', board[9])\n",
    "    print ('----------')\n",
    "    print (board[4], '|', board[5], '|', board[6])\n",
    "    print ('----------')\n",
    "    print (board[1], '|', board[2], '|', board[3])"
   ]
  },
  {
   "cell_type": "code",
   "execution_count": 2,
   "metadata": {},
   "outputs": [
    {
     "name": "stdout",
     "output_type": "stream",
     "text": [
      "o |   |  \n",
      "----------\n",
      "  | x |  \n",
      "----------\n",
      "  | o | x\n"
     ]
    }
   ],
   "source": [
    "display_board(test_board)\n",
    "display_board(test_board)"
   ]
  },
  {
   "cell_type": "markdown",
   "metadata": {},
   "source": [
    "**TEST Step 1:** run your function on a test version of the board list, and make adjustments as necessary"
   ]
  },
  {
   "cell_type": "markdown",
   "metadata": {},
   "source": [
    "**Step 2: Write a function that can take in a player input and assign their marker as 'X' or 'O'. Think about using *while* loops to continually ask until you get a correct answer.**"
   ]
  },
  {
   "cell_type": "code",
   "execution_count": 3,
   "metadata": {},
   "outputs": [],
   "source": [
    "def x_o_choice():\n",
    "    x_o_list = ('X','O')\n",
    "    correct_solection = False\n",
    "    \n",
    "    while correct_solection == False:\n",
    "        \n",
    "        marker = input('Player 1, would you like to play as X or O. Please enter X or O: ')\n",
    "        \n",
    "        if marker not in x_o_list:\n",
    "            print('Sorry, please enter X or O')\n",
    "        \n",
    "        if marker in x_o_list:\n",
    "            print(f'You have selected {marker}')\n",
    "            correct_solection = True"
   ]
  },
  {
   "cell_type": "code",
   "execution_count": 4,
   "metadata": {},
   "outputs": [
    {
     "name": "stdout",
     "output_type": "stream",
     "text": [
      "Player 1, would you like to play as X or O. Please enter X or O: x\n",
      "Sorry, please enter X or O\n",
      "Player 1, would you like to play as X or O. Please enter X or O: x\n",
      "Sorry, please enter X or O\n",
      "Player 1, would you like to play as X or O. Please enter X or O: X\n",
      "You have selected X\n"
     ]
    }
   ],
   "source": [
    "x_o_choice()"
   ]
  },
  {
   "cell_type": "markdown",
   "metadata": {},
   "source": [
    "**TEST Step 2:** run the function to make sure it returns the desired output"
   ]
  },
  {
   "cell_type": "markdown",
   "metadata": {},
   "source": [
    "**Step 3: Write a function that takes in the board list object, a marker ('X' or 'O'), and a desired position (number 1-9) and assigns it to the board.**"
   ]
  },
  {
   "cell_type": "code",
   "execution_count": 5,
   "metadata": {},
   "outputs": [],
   "source": [
    "def place_marker(board, marker, position):\n",
    "    \n",
    "    board[position]=marker"
   ]
  },
  {
   "cell_type": "markdown",
   "metadata": {},
   "source": [
    "**TEST Step 3:** run the place marker function using test parameters and display the modified board"
   ]
  },
  {
   "cell_type": "markdown",
   "metadata": {},
   "source": [
    "**Step 4: Write a function that takes in a board and a mark (X or O) and then checks to see if that mark has won. **"
   ]
  },
  {
   "cell_type": "code",
   "execution_count": 6,
   "metadata": {},
   "outputs": [],
   "source": [
    "def win_check(board, mark):\n",
    "    if board[7] == board[8] == board[9] == mark:\n",
    "        return True\n",
    "    if board[4] == board[5] == board[6] == mark:\n",
    "        return True\n",
    "    if board[1] == board[2] == board[3] == mark:\n",
    "        return True\n",
    "    if board[7] == board[4] == board[1] == mark:\n",
    "        return True\n",
    "    if board[8] == board[5] == board[2] == mark:\n",
    "        return True\n",
    "    if board[9] == board[6] == board[3] == mark:\n",
    "        return True\n",
    "    if board[7] == board[5] == board[3] == mark:\n",
    "        return True\n",
    "    if board[9] == board[5] == board[1] == mark:\n",
    "        return True\n",
    "    else:\n",
    "        return False\n",
    "        "
   ]
  },
  {
   "cell_type": "markdown",
   "metadata": {},
   "source": [
    "**TEST Step 4:** run the win_check function against our test_board - it should return True"
   ]
  },
  {
   "cell_type": "markdown",
   "metadata": {},
   "source": [
    "**Step 5: Write a function that uses the random module to randomly decide which player goes first. You may want to lookup random.randint() Return a string of which player went first.**"
   ]
  },
  {
   "cell_type": "code",
   "execution_count": 7,
   "metadata": {},
   "outputs": [],
   "source": [
    "import random\n",
    "\n",
    "def choose_first():\n",
    "    if random.randint(0,1) == 0:\n",
    "        print('O will go first')\n",
    "        marker = 'O'\n",
    "        return marker\n",
    "    else:\n",
    "        print('X will go first')\n",
    "        marker = 'X'\n",
    "        return marker"
   ]
  },
  {
   "cell_type": "markdown",
   "metadata": {},
   "source": [
    "**Step 6: Write a function that returns a boolean indicating whether a space on the board is freely available.**"
   ]
  },
  {
   "cell_type": "code",
   "execution_count": 8,
   "metadata": {},
   "outputs": [],
   "source": [
    "def space_check(board, position):\n",
    "    if board[position] ==  ' ':\n",
    "        return True\n",
    "    else:\n",
    "        return False\n",
    "    "
   ]
  },
  {
   "cell_type": "code",
   "execution_count": 9,
   "metadata": {},
   "outputs": [
    {
     "data": {
      "text/plain": [
       "True"
      ]
     },
     "execution_count": 9,
     "metadata": {},
     "output_type": "execute_result"
    }
   ],
   "source": [
    "space_check(test_board, 1)"
   ]
  },
  {
   "cell_type": "markdown",
   "metadata": {},
   "source": [
    "# **Step 7: Write a function that checks if the board is full and returns a boolean value. True if full, False otherwise.**"
   ]
  },
  {
   "cell_type": "code",
   "execution_count": 10,
   "metadata": {},
   "outputs": [],
   "source": [
    "def full_board_check(board):\n",
    "    if ' ' not in board:\n",
    "        return True\n",
    "    else:\n",
    "        return False"
   ]
  },
  {
   "cell_type": "markdown",
   "metadata": {},
   "source": [
    "**Step 8: Write a function that asks for a player's next position (as a number 1-9) and then uses the function from step 6 to check if it's a free position. If it is, then return the position for later use.**"
   ]
  },
  {
   "cell_type": "code",
   "execution_count": 11,
   "metadata": {},
   "outputs": [],
   "source": [
    "def player_choice(board):\n",
    "    flag = False\n",
    "    while flag == False:\n",
    "        position = int(input('Where would you like to go next?: '))\n",
    "\n",
    "        if space_check(board, position) and position in[1,2,3,4,5,6,7,8,9,10] == True:\n",
    "            return position\n",
    "            flag = True\n",
    "\n",
    "        else:\n",
    "            print(f' Sorry, space number {position} is unavailable')"
   ]
  },
  {
   "cell_type": "markdown",
   "metadata": {},
   "source": [
    "**Step 9: Write a function that asks the player if they want to play again and returns a boolean True if they do want to play again.**"
   ]
  },
  {
   "cell_type": "code",
   "execution_count": 12,
   "metadata": {},
   "outputs": [],
   "source": [
    "def replay():\n",
    "    play_again = True    \n",
    "    while play_again != 'Y' or 'N':\n",
    "        \n",
    "        play_again = input('Do you want to play again? Y or N ')\n",
    "        \n",
    "        if play_again == 'Y':\n",
    "            return True\n",
    "        \n",
    "        elif play_again == 'N':\n",
    "            return False\n",
    "\n",
    "        else:\n",
    "            print('Sorry, please enter Y or N!')"
   ]
  },
  {
   "cell_type": "code",
   "execution_count": 13,
   "metadata": {},
   "outputs": [
    {
     "name": "stdout",
     "output_type": "stream",
     "text": [
      "Do you want to play again? Y or N n\n",
      "Sorry, please enter Y or N!\n",
      "Do you want to play again? Y or N Y\n"
     ]
    },
    {
     "data": {
      "text/plain": [
       "True"
      ]
     },
     "execution_count": 13,
     "metadata": {},
     "output_type": "execute_result"
    }
   ],
   "source": [
    "replay()"
   ]
  },
  {
   "cell_type": "markdown",
   "metadata": {
    "collapsed": true
   },
   "source": [
    "**Step 10: Here comes the hard part! Use while loops and the functions you've made to run the game!**"
   ]
  },
  {
   "cell_type": "code",
   "execution_count": null,
   "metadata": {},
   "outputs": [
    {
     "name": "stdout",
     "output_type": "stream",
     "text": [
      "Welcome to Tic Tac Toe!\n",
      "\n",
      "\n",
      "Player 1, would you like to play as X or O. Please enter X or O: X\n",
      "You have selected X\n",
      "O will go first\n",
      "Where would you like to go next?: 1\n",
      " Sorry, space number 1 is unavailable\n",
      "Where would you like to go next?: 2\n",
      " Sorry, space number 2 is unavailable\n",
      "Where would you like to go next?: 2\n",
      " Sorry, space number 2 is unavailable\n",
      "Where would you like to go next?: 4\n",
      " Sorry, space number 4 is unavailable\n",
      "Where would you like to go next?: 5\n",
      " Sorry, space number 5 is unavailable\n",
      "Where would you like to go next?: 6\n",
      " Sorry, space number 6 is unavailable\n",
      "Where would you like to go next?: 7\n",
      " Sorry, space number 7 is unavailable\n",
      "Where would you like to go next?: 8\n",
      " Sorry, space number 8 is unavailable\n",
      "Where would you like to go next?: 9\n",
      " Sorry, space number 9 is unavailable\n"
     ]
    }
   ],
   "source": [
    "##################################################THIS IS THE CODE#############################################################\n",
    "\n",
    "\n",
    "print('Welcome to Tic Tac Toe!')\n",
    "print()\n",
    "print()\n",
    "import random\n",
    "board = ['ind0',' ', ' ', ' ', ' ', ' ', ' ', ' ', ' ', ' ']\n",
    "repeat = True\n",
    "\n",
    "while repeat == True:\n",
    "\n",
    "    #player 1 selects their piece\n",
    "    x_o_choice()\n",
    "\n",
    "    #randomly desides if X or O goes first\n",
    "    marker = choose_first()\n",
    "\n",
    "    #player enters a number 1-9. Python checks availability and prints if unavailable returns position\n",
    "    position = player_choice(board)\n",
    "\n",
    "    #updates board list to reflect player move\n",
    "    place_marker(board, marker, position)\n",
    "\n",
    "    #prints the board so you can see it.\n",
    "    display_board(board)\n",
    "\n",
    "    if marker == 'O':\n",
    "        marker = 'X'\n",
    "    else:\n",
    "        marker = 'O'\n",
    "\n",
    "\n",
    "    #################################          MAIN GAME                #########################################\n",
    "\n",
    "\n",
    "\n",
    "    #while board isn't full, and no one has one:\n",
    "    while win_check(board, 'X') == False and win_check(board, 'O')== False and full_board_check(board) == False:\n",
    "\n",
    "        #if the board space is available\n",
    "        position = player_choice(board)\n",
    "\n",
    "        #python checks the availabilty of a user input \n",
    "        print(f\"Now it is {marker}'s turn!\")\n",
    "        place_marker(board, marker, position)\n",
    "        display_board(board)\n",
    "        if marker == 'O':\n",
    "            marker = 'X'\n",
    "        else:\n",
    "            marker = 'O'\n",
    "        #makes it so that the players can see the board\n",
    "            #isplay_board(board) \n",
    "\n",
    "\n",
    "\n",
    "    ##########################################     ENDING THE GAME     ###################################################        \n",
    "\n",
    "    display_board(board)\n",
    "\n",
    "    if win_check(board, 'X'):\n",
    "        print(\"X is the Winner!!!!\")\n",
    "\n",
    "    if win_check(board, 'O'):\n",
    "        print(\"O is the Winner!!!!\")\n",
    "\n",
    "\n",
    "    else:\n",
    "        print(\"This game is a draw...\")\n",
    "    \n",
    "    if replay() == False:\n",
    "        replay = False\n",
    "    else:\n",
    "        replay = True\n",
    "\n",
    "\n",
    "\n",
    "\n",
    "\n",
    "\n",
    "\n",
    "#player_choice() #this checks availability of spot \n",
    "#place_marker() #this updates the list with the move (replaces  ' ' with 'X' in board )\n",
    "#win_check(board, 'X')\n",
    "#win_check(board, 'O')\n",
    "#full_board_check()\n",
    "#while True:\n",
    "    # Set the game up here\n",
    "    #pass\n",
    "\n",
    "    #while game_on:\n",
    "        #Player 1 Turn\n",
    "        \n",
    "        \n",
    "        # Player2's turn.\n",
    "            \n",
    "            #pass\n",
    "\n",
    "    #if not replay():\n",
    "        #break"
   ]
  },
  {
   "cell_type": "code",
   "execution_count": null,
   "metadata": {},
   "outputs": [],
   "source": [
    "board"
   ]
  },
  {
   "cell_type": "code",
   "execution_count": null,
   "metadata": {},
   "outputs": [],
   "source": []
  },
  {
   "cell_type": "markdown",
   "metadata": {
    "collapsed": true
   },
   "source": [
    "## Good Job!"
   ]
  }
 ],
 "metadata": {
  "kernelspec": {
   "display_name": "Python 3 (ipykernel)",
   "language": "python",
   "name": "python3"
  },
  "language_info": {
   "codemirror_mode": {
    "name": "ipython",
    "version": 3
   },
   "file_extension": ".py",
   "mimetype": "text/x-python",
   "name": "python",
   "nbconvert_exporter": "python",
   "pygments_lexer": "ipython3",
   "version": "3.9.12"
  }
 },
 "nbformat": 4,
 "nbformat_minor": 1
}
